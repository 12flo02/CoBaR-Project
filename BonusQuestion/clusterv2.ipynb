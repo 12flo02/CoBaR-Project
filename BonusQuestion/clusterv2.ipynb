{
 "cells": [
  {
   "cell_type": "code",
   "execution_count": 1,
   "metadata": {},
   "outputs": [],
   "source": [
    "import numpy as np\n",
    "import pandas as pd\n",
    "import pickle\n",
    "import os\n",
    "import glob\n",
    "import copy\n",
    "import csv\n",
    "import matplotlib.pyplot as plt\n",
    "from collections import Counter, OrderedDict\n",
    "from scipy import signal, fftpack, stats\n",
    "from sklearn.manifold import TSNE\n",
    "from sklearn.mixture import GaussianMixture\n",
    "from sklearn.decomposition import PCA\n",
    "from sklearn.neighbors import NearestNeighbors\n",
    "from skimage.segmentation import watershed\n",
    "from skimage.feature import peak_local_max\n",
    "from operator import itemgetter, attrgetter\n",
    "import seaborn as sns"
   ]
  },
  {
   "cell_type": "code",
   "execution_count": 2,
   "metadata": {},
   "outputs": [],
   "source": [
    "transgenics = os.listdir('CoBar-Dataset')\n",
    "transgenics.remove('PR')"
   ]
  },
  {
   "cell_type": "code",
   "execution_count": 3,
   "metadata": {},
   "outputs": [],
   "source": [
    "def load_data(xp):\n",
    "    genDict = np.load(f'CoBar-Dataset/{xp}/U3_f/genotype_dict.npy', allow_pickle=True).item()\n",
    "    with open(f'CoBar-Dataset/{xp}/U3_f/{xp}_U3_f_trackingData.pkl', 'rb') as f:\n",
    "        data = pickle.load(f)\n",
    "    \n",
    "    print(f'{xp} - Data dimension: {data.shape}')\n",
    "    \n",
    "    metadata = np.array([list(item) for item in data.index.values])\n",
    "    \n",
    "    print(f'{xp} - Metadata dimension: {metadata.shape}')\n",
    "    \n",
    "    return genDict, data, metadata"
   ]
  },
  {
   "cell_type": "code",
   "execution_count": 4,
   "metadata": {},
   "outputs": [],
   "source": [
    "def get_data_per_fly_per_xp():   \n",
    "    dict_data = {}\n",
    "    dict_metadata = {}\n",
    "    \n",
    "    stim_col = 1\n",
    "    xp_col = 3\n",
    "    fly_col = 4\n",
    "    \n",
    "    for strain in transgenics:\n",
    "        genDict, data, metadata = load_data(strain)\n",
    "    \n",
    "        pretarsi=[\"LFclaw\", \"LHclaw\", \"LMclaw\", \"RFclaw\", \"RHclaw\", \"RMclaw\"]\n",
    "        pretarsi_data = data[pretarsi]\n",
    "\n",
    "        xps = np.unique(metadata[:,xp_col])\n",
    "        flies = np.unique(metadata[:,fly_col])\n",
    "\n",
    "        for xp in xps:\n",
    "            xp_idx = np.where(metadata[:,xp_col] == xp)[0]\n",
    "\n",
    "            xp_metadata = metadata[xp_idx]\n",
    "            xp_data = pretarsi_data.iloc[xp_idx]\n",
    "\n",
    "            for fly in flies:\n",
    "                fly_idx = np.where(xp_metadata[:,fly_col] == fly)[0]\n",
    "\n",
    "                xp_fly_metadata = xp_metadata[fly_idx]\n",
    "\n",
    "                xp_fly_data = xp_data.iloc[fly_idx]\n",
    "                \n",
    "                xp_fly_metadata = np.append(xp_fly_metadata, np.array(range(len(xp_fly_metadata))).reshape(-1,1), axis=1)\n",
    "                \n",
    "                if not(xp_fly_data.empty):\n",
    "                    dict_metadata[xp+fly] = np.array(sorted(xp_fly_metadata, key=lambda x: (int(x[stim_col][-1]), x[stim_col])))\n",
    "                    idx_sort = np.array(list(map(int,dict_metadata[xp+fly][:,-1])))\n",
    "                    dict_data[xp + fly] = np.array(xp_fly_data)[idx_sort,:]\n",
    "    \n",
    "    return dict_data, dict_metadata"
   ]
  },
  {
   "cell_type": "code",
   "execution_count": 5,
   "metadata": {},
   "outputs": [
    {
     "name": "stdout",
     "output_type": "stream",
     "text": [
      "MDN - Data dimension: (28770, 70)\n",
      "MDN - Metadata dimension: (28770, 6)\n",
      "SS01049 - Data dimension: (26385, 70)\n",
      "SS01049 - Metadata dimension: (26385, 6)\n",
      "SS01054 - Data dimension: (31162, 70)\n",
      "SS01054 - Metadata dimension: (31162, 6)\n",
      "SS01540 - Data dimension: (26361, 70)\n",
      "SS01540 - Metadata dimension: (26361, 6)\n",
      "SS02111 - Data dimension: (26396, 70)\n",
      "SS02111 - Metadata dimension: (26396, 6)\n",
      "SS02279 - Data dimension: (28776, 70)\n",
      "SS02279 - Metadata dimension: (28776, 6)\n",
      "SS02377 - Data dimension: (28764, 70)\n",
      "SS02377 - Metadata dimension: (28764, 6)\n",
      "SS02608 - Data dimension: (28740, 70)\n",
      "SS02608 - Metadata dimension: (28740, 6)\n",
      "SS02617 - Data dimension: (26355, 70)\n",
      "SS02617 - Metadata dimension: (26355, 6)\n"
     ]
    }
   ],
   "source": [
    "dict_data, dict_metadata = get_data_per_fly_per_xp()"
   ]
  },
  {
   "cell_type": "code",
   "execution_count": null,
   "metadata": {},
   "outputs": [],
   "source": [
    "'''preproc_data = {}\n",
    "\n",
    "n_scales = 20\n",
    "stim_col = 1\n",
    "# fps = 80\n",
    "\n",
    "for (key, pretarsi_data) in dict_data.items():\n",
    "    preproc_data[key] = np.zeros_like(pretarsi_data)\n",
    "    \n",
    "    pretarsi_metadata = dict_metadata[key]   \n",
    "    pretarsi_off_data = pretarsi_data[list(map(lambda x: str.find(x, 'off') == 0, pretarsi_metadata[:,stim_col]))]\n",
    "    \n",
    "    for i in range(pretarsi_data.shape[1]):\n",
    "        # Median filter\n",
    "        filt = signal.medfilt(pretarsi_data[:,i], kernel_size=3)\n",
    "        \n",
    "        # Discard low-variance frames (during off periods)\n",
    "        # pretarsi_off_data = \n",
    "        \n",
    "        # Z-score normalization\n",
    "        preproc_data[key][:,i] = stats.zscore(filt)'''"
   ]
  },
  {
   "cell_type": "code",
   "execution_count": 6,
   "metadata": {},
   "outputs": [],
   "source": [
    "wavelet_data = {}\n",
    "\n",
    "n_scales = 20\n",
    "fps = 80\n",
    "f_min = 1\n",
    "f_max = fps/2\n",
    "logvar_thresh = -6.\n",
    "\n",
    "for (key, data) in dict_data.items():\n",
    "    wavelet_data[key] = np.zeros((list(data.shape) + [n_scales]))\n",
    "    \n",
    "    pretarsi_metadata = dict_metadata[key]\n",
    "    \n",
    "    # Wavelet transformation\n",
    "    for i in range(data.shape[1]):\n",
    "        sig = abs(signal.cwt(data[:,i], signal.morlet2, np.geomspace(f_min, f_max, n_scales)).T)\n",
    "    \n",
    "        wavelet_data[key][:,i,:] = sig\n",
    "    \n",
    "    wavelet_data[key] = wavelet_data[key].reshape(wavelet_data[key].shape[0], wavelet_data[key].shape[1]*wavelet_data[key].shape[2])\n",
    "    \n",
    "    '''# Low-energy frame rejection    \n",
    "    low_var_idx = []\n",
    "    for t in range(wavelet_data[key].shape[0]):\n",
    "        # Select 'off-period' data\n",
    "        if str.find(pretarsi_metadata[t, stim_col], 'off') == 0:\n",
    "            # Discard low variance data\n",
    "            if np.log(wavelet_data[key][t,:].var()) < logvar_thresh:\n",
    "                low_var_idx.append(t)\n",
    "    \n",
    "    wavelet_data[key] = np.delete(wavelet_data[key], low_var_idx, 0)'''\n",
    "    \n",
    "    # Frame-normalization\n",
    "    for t in range(wavelet_data[key].shape[0]):\n",
    "        wavelet_data[key][t,:] = wavelet_data[key][t,:]/(wavelet_data[key][t,:].sum())"
   ]
  },
  {
   "cell_type": "code",
   "execution_count": 7,
   "metadata": {},
   "outputs": [],
   "source": [
    "def save_obj(obj, name):\n",
    "    with open('data/'+ name + '.pkl', 'wb') as f:\n",
    "        pickle.dump(obj, f, pickle.HIGHEST_PROTOCOL)"
   ]
  },
  {
   "cell_type": "code",
   "execution_count": 8,
   "metadata": {},
   "outputs": [],
   "source": [
    "save_obj(wavelet_data, 'wavelet_data')"
   ]
  },
  {
   "cell_type": "code",
   "execution_count": 321,
   "metadata": {},
   "outputs": [
    {
     "data": {
      "text/plain": [
       "(2400,)"
      ]
     },
     "execution_count": 321,
     "metadata": {},
     "output_type": "execute_result"
    }
   ],
   "source": [
    "wavelet_test.sum(1).shape"
   ]
  },
  {
   "cell_type": "code",
   "execution_count": 10,
   "metadata": {},
   "outputs": [
    {
     "name": "stdout",
     "output_type": "stream",
     "text": [
      "1/105\n",
      "2/105\n",
      "3/105\n",
      "4/105\n",
      "5/105\n",
      "6/105\n",
      "7/105\n",
      "8/105\n",
      "9/105\n",
      "10/105\n",
      "11/105\n",
      "12/105\n",
      "13/105\n",
      "14/105\n",
      "15/105\n",
      "16/105\n",
      "17/105\n",
      "18/105\n",
      "19/105\n",
      "20/105\n",
      "21/105\n",
      "22/105\n",
      "23/105\n",
      "24/105\n",
      "25/105\n",
      "26/105\n",
      "27/105\n",
      "28/105\n",
      "29/105\n",
      "30/105\n",
      "31/105\n",
      "32/105\n",
      "33/105\n",
      "34/105\n",
      "35/105\n",
      "36/105\n",
      "37/105\n",
      "38/105\n",
      "39/105\n",
      "40/105\n",
      "41/105\n",
      "42/105\n",
      "43/105\n",
      "44/105\n",
      "45/105\n",
      "46/105\n",
      "47/105\n",
      "48/105\n",
      "49/105\n",
      "50/105\n",
      "51/105\n",
      "52/105\n",
      "53/105\n",
      "54/105\n",
      "55/105\n",
      "56/105\n",
      "57/105\n",
      "58/105\n",
      "59/105\n",
      "60/105\n",
      "61/105\n",
      "62/105\n",
      "63/105\n",
      "64/105\n",
      "65/105\n",
      "66/105\n",
      "67/105\n",
      "68/105\n",
      "69/105\n",
      "70/105\n",
      "71/105\n",
      "72/105\n",
      "73/105\n",
      "74/105\n",
      "75/105\n",
      "76/105\n",
      "77/105\n",
      "78/105\n",
      "79/105\n",
      "80/105\n",
      "81/105\n",
      "82/105\n",
      "83/105\n",
      "84/105\n",
      "85/105\n",
      "86/105\n",
      "87/105\n",
      "88/105\n",
      "89/105\n",
      "90/105\n",
      "91/105\n",
      "92/105\n",
      "93/105\n",
      "94/105\n",
      "95/105\n",
      "96/105\n",
      "97/105\n",
      "98/105\n",
      "99/105\n",
      "100/105\n",
      "101/105\n",
      "102/105\n",
      "103/105\n",
      "104/105\n",
      "105/105\n"
     ]
    }
   ],
   "source": [
    "dict_embedded_data = {}\n",
    "\n",
    "for i, (key, data) in enumerate(wavelet_data.items()):\n",
    "    print(f'{i+1}/{len(wavelet_data)}')\n",
    "    dict_embedded_data[key] = TSNE(n_components=2).fit_transform(data)"
   ]
  },
  {
   "cell_type": "code",
   "execution_count": 272,
   "metadata": {},
   "outputs": [],
   "source": [
    "save_obj(dict_embedded_data, 'embedded_data')"
   ]
  },
  {
   "cell_type": "code",
   "execution_count": 302,
   "metadata": {},
   "outputs": [],
   "source": [
    "numPoints = 501\n",
    "\n",
    "wavelet_test = wavelet_data[next(iter(wavelet_data))]\n",
    "test = dict_embedded_data[next(iter(dict_embedded_data))]\n",
    "sigma = 1.5\n",
    "\n",
    "G = np.exp(-0.5*(XX**2 + YY**2)/(sigma**2)) / (2*np.pi*sigma**2);\n",
    "maxY = np.ceil(test.max())+1\n",
    "xx = np.linspace(-maxY, maxY, numPoints)\n",
    "yy = xx\n",
    "XX, YY = np.meshgrid(xx, yy)\n",
    "\n",
    "H, _, _ = np.histogram2d(test[:,0], test[:,1], bins=(xx, yy))\n",
    "\n",
    "res = signal.convolve(G, H, mode='same')\n",
    "res *= res > 0"
   ]
  },
  {
   "cell_type": "code",
   "execution_count": 320,
   "metadata": {},
   "outputs": [
    {
     "data": {
      "text/plain": [
       "(240,)"
      ]
     },
     "execution_count": 320,
     "metadata": {},
     "output_type": "execute_result"
    }
   ],
   "source": [
    "wavelet_test[0,:].shape"
   ]
  },
  {
   "cell_type": "code",
   "execution_count": 298,
   "metadata": {},
   "outputs": [
    {
     "data": {
      "text/plain": [
       "(2400, 2)"
      ]
     },
     "execution_count": 298,
     "metadata": {},
     "output_type": "execute_result"
    }
   ],
   "source": [
    "test.shape"
   ]
  },
  {
   "cell_type": "code",
   "execution_count": 305,
   "metadata": {},
   "outputs": [
    {
     "data": {
      "text/plain": [
       "<matplotlib.colorbar.Colorbar at 0x1ab99b98208>"
      ]
     },
     "execution_count": 305,
     "metadata": {},
     "output_type": "execute_result"
    },
    {
     "data": {
      "image/png": "[encoded data removed]",
      "text/plain": [
       "<Figure size 432x288 with 2 Axes>"
      ]
     },
     "metadata": {
      "needs_background": "light"
     },
     "output_type": "display_data"
    }
   ],
   "source": [
    "sc = plt.scatter(test[:,0], test[:,1], c = wavelet_test.sum(1))\n",
    "plt.colorbar(sc)\n",
    "#plt.colorbar()"
   ]
  },
  {
   "cell_type": "code",
   "execution_count": 294,
   "metadata": {},
   "outputs": [
    {
     "data": {
      "image/png": "[encoded data removed]",
      "text/plain": [
       "<Figure size 288x288 with 2 Axes>"
      ]
     },
     "metadata": {
      "needs_background": "light"
     },
     "output_type": "display_data"
    }
   ],
   "source": [
    "plt.matshow(res)\n",
    "plt.colorbar()\n",
    "plt.show()"
   ]
  },
  {
   "cell_type": "code",
   "execution_count": 263,
   "metadata": {},
   "outputs": [
    {
     "data": {
      "text/plain": [
       "[<matplotlib.lines.Line2D at 0x1ab974120c8>]"
      ]
     },
     "execution_count": 263,
     "metadata": {},
     "output_type": "execute_result"
    },
    {
     "data": {
      "image/png": "[encoded data removed]",
      "text/plain": [
       "<Figure size 432x288 with 1 Axes>"
      ]
     },
     "metadata": {
      "needs_background": "light"
     },
     "output_type": "display_data"
    }
   ],
   "source": [
    "plt.plot(test[:,0], test[:,1])"
   ]
  },
  {
   "cell_type": "code",
   "execution_count": 267,
   "metadata": {},
   "outputs": [
    {
     "data": {
      "text/plain": [
       "array([-31, -30, -29, -28, -27, -26, -25, -24, -23, -22, -21, -20, -19,\n",
       "       -18, -17, -16, -15, -14, -13, -12, -11, -10,  -9,  -8,  -7,  -6,\n",
       "        -5,  -4,  -3,  -2,  -1,   0,   1,   2,   3,   4,   5,   7,   8,\n",
       "         9,  10,  11,  12,  13,  14,  15,  16,  17,  18,  19,  20,  21,\n",
       "        22,  23,  24,  25,  26,  27,  28,  29,  30,  31,  32,  33,  34,\n",
       "        35,  36,  37,  38,  39,  40,  41,  42,  43,  44,  45,  46,  47,\n",
       "        48,  49,  50,  51,  52,  53,  54,  55,  56,  57,  58,  59,  60,\n",
       "        61,  62,  63,  64,  65,  66,  67,  68,  69,  70,  71,  72,  73,\n",
       "        74,  75,  76,  77,  78,  79,  80,  81,  82,  83,  84,  85,  86,\n",
       "        87,  88,  89,  90,  91,  92,  93,  94,  95,  96,  97,  98,  99,\n",
       "       100, 101, 102, 103, 104, 105, 106, 107, 108, 109, 110, 111, 112,\n",
       "       113, 114, 115, 116, 117, 118, 119, 120, 121, 122, 123, 124, 125,\n",
       "       126, 127, 128, 129, 130, 131, 132, 133, 134, 135, 136, 137, 138,\n",
       "       139, 140, 141, 142, 143, 144, 145, 146, 147, 148, 149, 150, 151,\n",
       "       152, 153, 154, 155, 156, 157, 158, 159, 160, 161, 162, 163, 164,\n",
       "       165, 166, 167, 168, 169, 170, 171, 172, 173, 174, 175, 176, 177,\n",
       "       178, 179, 180, 181, 182, 183, 184, 185, 186, 187, 188, 189, 190,\n",
       "       191, 192, 193, 194, 195, 196, 197, 198, 199, 200, 201, 202, 203,\n",
       "       204, 205, 206, 207, 208, 209, 210, 211, 212, 213, 214, 215, 216,\n",
       "       217, 218, 219, 220, 221, 222, 223, 224, 225, 226, 227, 228, 229,\n",
       "       230, 231, 232, 233, 234, 235, 236, 237, 238, 239, 240, 241, 242,\n",
       "       243, 244, 245, 246, 247, 248, 249, 250, 251, 252, 253, 254, 255,\n",
       "       256, 257, 258, 259, 260, 261, 262, 263, 264, 265, 266, 267, 268,\n",
       "       269, 270, 271, 272, 273, 274, 275, 276, 277, 278, 279, 280, 281,\n",
       "       282, 283, 284, 285, 286, 287, 288, 289, 290, 291, 292, 293, 294,\n",
       "       295, 296, 297, 298, 299, 300, 301, 302, 303, 304, 305, 306, 307,\n",
       "       308, 309, 310, 311, 312, 313, 314, 315, 316, 317, 318, 319, 320,\n",
       "       321, 322, 323, 324, 325, 326, 327, 328, 329, 330, 331, 332, 333,\n",
       "       334, 335, 336, 337, 338, 339, 340, 341, 342, 343, 344, 345, 346,\n",
       "       347, 348, 349, 350, 351, 352, 353, 354, 355, 356, 357, 358, 359,\n",
       "       360, 361, 362, 363, 364, 365, 366, 367, 368, 369, 370, 371, 372,\n",
       "       373, 374, 375, 376, 377, 378, 379, 380, 381, 382, 383, 384, 385,\n",
       "       386, 387, 388, 389, 390, 391, 392, 393, 394, 395, 396, 397, 398,\n",
       "       399, 400, 401, 402, 403, 404, 405, 406, 407, 408, 409, 410, 411,\n",
       "       412, 413, 414, 415, 416, 417, 418, 419, 420, 421, 422, 423, 424,\n",
       "       425, 426, 427, 428, 429, 430, 431, 432, 433, 434, 435, 436, 437,\n",
       "       438, 439, 440, 441, 442, 443, 444, 445, 446, 447, 448, 449, 450,\n",
       "       451, 452, 453, 454, 455, 456, 457, 458, 459, 460, 461, 462, 463,\n",
       "       464, 465, 466, 467, 468, 469, 470, 471, 472, 473, 474, 475, 476,\n",
       "       477, 478, 479, 480, 481, 482, 483, 484, 485, 486, 487, 488, 489,\n",
       "       490, 491, 492, 493, 494, 495])"
      ]
     },
     "execution_count": 267,
     "metadata": {},
     "output_type": "execute_result"
    }
   ],
   "source": [
    "vals = np.round((test + max(xx))*len(xx)/(2*max(xx))).astype(int);"
   ]
  },
  {
   "cell_type": "code",
   "execution_count": 248,
   "metadata": {},
   "outputs": [],
   "source": [
    "wavelet = wavelet_data[next(iter(wavelet_data))]"
   ]
  },
  {
   "cell_type": "code",
   "execution_count": 249,
   "metadata": {},
   "outputs": [
    {
     "data": {
      "text/plain": [
       "575"
      ]
     },
     "execution_count": 249,
     "metadata": {},
     "output_type": "execute_result"
    }
   ],
   "source": [
    "labels = watershed(-res, connectivity=8)\n",
    "maxL = labels.max()\n",
    "maxL"
   ]
  },
  {
   "cell_type": "code",
   "execution_count": 250,
   "metadata": {},
   "outputs": [
    {
     "data": {
      "text/plain": [
       "<matplotlib.image.AxesImage at 0x1ab99890948>"
      ]
     },
     "execution_count": 250,
     "metadata": {},
     "output_type": "execute_result"
    },
    {
     "data": {
      "image/png": "[encoded data removed]",
      "text/plain": [
       "<Figure size 432x288 with 1 Axes>"
      ]
     },
     "metadata": {
      "needs_background": "light"
     },
     "output_type": "display_data"
    }
   ],
   "source": [
    "plt.imshow(labels)"
   ]
  },
  {
   "cell_type": "code",
   "execution_count": 251,
   "metadata": {},
   "outputs": [
    {
     "data": {
      "text/plain": [
       "((501, 501), (500, 500), (501, 501))"
      ]
     },
     "execution_count": 251,
     "metadata": {},
     "output_type": "execute_result"
    }
   ],
   "source": [
    "G.shape, H.shape, res.shape"
   ]
  },
  {
   "cell_type": "code",
   "execution_count": 252,
   "metadata": {},
   "outputs": [
    {
     "data": {
      "text/plain": [
       "<matplotlib.image.AxesImage at 0x1ab973b4048>"
      ]
     },
     "execution_count": 252,
     "metadata": {},
     "output_type": "execute_result"
    },
    {
     "data": {
      "image/png": "[encoded data removed]",
      "text/plain": [
       "<Figure size 432x288 with 1 Axes>"
      ]
     },
     "metadata": {
      "needs_background": "light"
     },
     "output_type": "display_data"
    }
   ],
   "source": [
    "plt.imshow(H, interpolation='nearest', origin='low', extent=[xx[0], xx[-1], yy[0], yy[-1]])"
   ]
  },
  {
   "cell_type": "code",
   "execution_count": 253,
   "metadata": {},
   "outputs": [],
   "source": [
    "N = test.shape[0]\n",
    "watershedValues = np.zeros((N,1));\n",
    "for i in range(N):\n",
    "    watershedValues[i] = labels[vals[i,1],vals[i,0]];"
   ]
  },
  {
   "cell_type": "code",
   "execution_count": 254,
   "metadata": {},
   "outputs": [
    {
     "data": {
      "text/plain": [
       "(575, 575, (501, 501))"
      ]
     },
     "execution_count": 254,
     "metadata": {},
     "output_type": "execute_result"
    }
   ],
   "source": [
    "len(np.unique(labels)), np.unique(labels)[-1], labels.shape"
   ]
  },
  {
   "cell_type": "code",
   "execution_count": 255,
   "metadata": {},
   "outputs": [],
   "source": [
    "templates = []\n",
    "\n",
    "for i in range(maxL):\n",
    "    if len(np.where(watershedValues==i)[0]) > 0:\n",
    "        templates.append(wavelet[np.where(watershedValues==i)[0],:])\n",
    "templateLengths = np.array(list(map(len, templates)))"
   ]
  },
  {
   "cell_type": "code",
   "execution_count": 256,
   "metadata": {},
   "outputs": [],
   "source": [
    "numPerDataSet = 350\n",
    "numInGroup = np.round(numPerDataSet*templateLengths/sum(templateLengths))\n",
    "numInGroup = np.clip(numInGroup, 1, np.max(numInGroup))\n",
    "sumVal = sum(numInGroup);"
   ]
  },
  {
   "cell_type": "code",
   "execution_count": 257,
   "metadata": {},
   "outputs": [
    {
     "data": {
      "text/plain": [
       "array([ 6.,  4.,  4., 10.,  5.,  1.,  1.,  4.,  6.,  5.,  6.,  4.,  8.,\n",
       "        7.,  4.,  1.,  3.,  1.,  9.,  4.,  2.,  4.,  4.,  7.,  3.,  2.,\n",
       "        1.,  1.,  7.,  4.,  8.,  1.,  9.,  1.,  1.,  4.,  5.,  6.,  3.,\n",
       "        1.,  5.,  9.,  1., 13.,  3.,  6.,  8.,  5.,  2.,  7.,  3., 13.,\n",
       "        2.,  4.,  6.,  4.,  1.,  3.,  5.,  6.,  3.,  4.,  5.,  2.,  1.,\n",
       "        4.,  5., 12.,  7.,  2.,  5.,  8., 13., 10.,  1.])"
      ]
     },
     "execution_count": 257,
     "metadata": {},
     "output_type": "execute_result"
    }
   ],
   "source": [
    "numInGroup"
   ]
  },
  {
   "cell_type": "code",
   "execution_count": 258,
   "metadata": {},
   "outputs": [],
   "source": [
    "N = len(templates)\n",
    "if sumVal < numPerDataSet:\n",
    "    q = int(numPerDataSet - sumVal);\n",
    "    idx = np.random.choice(N,min(q,N));\n",
    "    numInGroup[idx] += 1;\n",
    "else:\n",
    "    if sumVal > numPerDataSet:\n",
    "        q = int(sumVal - numPerDataSet);\n",
    "        idx2 = np.where(numInGroup > 1)[0];\n",
    "        Lq = len(idx2);\n",
    "        if Lq < q:\n",
    "            idx2 = range(len(numInGroup));\n",
    "        idx = np.random.choice(len(idx2),q);\n",
    "        numInGroup[idx2[idx]] -= 1"
   ]
  },
  {
   "cell_type": "code",
   "execution_count": 259,
   "metadata": {},
   "outputs": [],
   "source": [
    "idx = numInGroup > templateLengths;\n",
    "numInGroup[idx] = templateLengths[idx];\n",
    "cumSumGroupVals = np.append([0],np.cumsum(numInGroup));"
   ]
  },
  {
   "cell_type": "code",
   "execution_count": 260,
   "metadata": {},
   "outputs": [
    {
     "data": {
      "text/plain": [
       "array([  0.,   5.,   9.,  13.,  23.,  27.,  28.,  29.,  33.,  39.,  44.,\n",
       "        50.,  54.,  62.,  69.,  73.,  74.,  77.,  78.,  87.,  91.,  93.,\n",
       "        97., 101., 108., 110., 112., 113., 114., 121., 125., 133., 134.,\n",
       "       143., 144., 145., 149., 154., 160., 163., 164., 169., 178., 179.,\n",
       "       191., 194., 200., 208., 213., 214., 221., 224., 237., 239., 243.,\n",
       "       249., 253., 254., 257., 262., 268., 271., 275., 280., 282., 283.,\n",
       "       287., 292., 304., 311., 313., 318., 326., 339., 349., 350.])"
      ]
     },
     "execution_count": 260,
     "metadata": {},
     "output_type": "execute_result"
    }
   ],
   "source": [
    "cumSumGroupVals"
   ]
  },
  {
   "cell_type": "code",
   "execution_count": 261,
   "metadata": {},
   "outputs": [
    {
     "data": {
      "text/plain": [
       "(42, 240)"
      ]
     },
     "execution_count": 261,
     "metadata": {},
     "output_type": "execute_result"
    }
   ],
   "source": [
    "templates[0].shape"
   ]
  },
  {
   "cell_type": "code",
   "execution_count": 213,
   "metadata": {},
   "outputs": [],
   "source": [
    "selectedData = []\n",
    "\n",
    "for j in range(N):      \n",
    "    #amps = wavelet_data.sum(1)\n",
    "    #amps = amps[np.where(vals == j)]\n",
    "    idx2 = np.random.choice(templates[j].shape[0], int(numInGroup[j]))\n",
    "    selectedData.extend(templates[j][idx2,:]);\n",
    "    #selectedAmps(cumSumGroupVals(j)+1:cumSumGroupVals(j+1)) = amps(idx2);"
   ]
  },
  {
   "cell_type": "code",
   "execution_count": 214,
   "metadata": {},
   "outputs": [
    {
     "data": {
      "text/plain": [
       "(351, 240)"
      ]
     },
     "execution_count": 214,
     "metadata": {},
     "output_type": "execute_result"
    }
   ],
   "source": [
    "np.array(selectedData).shape"
   ]
  },
  {
   "cell_type": "code",
   "execution_count": 271,
   "metadata": {},
   "outputs": [
    {
     "name": "stdout",
     "output_type": "stream",
     "text": [
      "1/105\n",
      "2/105\n",
      "3/105\n",
      "4/105\n",
      "5/105\n",
      "6/105\n",
      "7/105\n",
      "8/105\n",
      "9/105\n",
      "10/105\n",
      "11/105\n",
      "12/105\n",
      "13/105\n",
      "14/105\n",
      "15/105\n",
      "16/105\n",
      "17/105\n",
      "18/105\n",
      "19/105\n",
      "20/105\n",
      "21/105\n",
      "22/105\n",
      "23/105\n",
      "24/105\n",
      "25/105\n",
      "26/105\n",
      "27/105\n",
      "28/105\n",
      "29/105\n",
      "30/105\n",
      "31/105\n",
      "32/105\n",
      "33/105\n",
      "34/105\n",
      "35/105\n",
      "36/105\n",
      "37/105\n",
      "38/105\n",
      "39/105\n",
      "40/105\n",
      "41/105\n",
      "42/105\n",
      "43/105\n",
      "44/105\n",
      "45/105\n",
      "46/105\n",
      "47/105\n",
      "48/105\n",
      "49/105\n",
      "50/105\n",
      "51/105\n",
      "52/105\n",
      "53/105\n",
      "54/105\n",
      "55/105\n",
      "56/105\n",
      "57/105\n",
      "58/105\n",
      "59/105\n",
      "60/105\n",
      "61/105\n",
      "62/105\n",
      "63/105\n",
      "64/105\n",
      "65/105\n",
      "66/105\n",
      "67/105\n",
      "68/105\n",
      "69/105\n",
      "70/105\n",
      "71/105\n",
      "72/105\n",
      "73/105\n",
      "74/105\n",
      "75/105\n",
      "76/105\n",
      "77/105\n",
      "78/105\n",
      "79/105\n",
      "80/105\n",
      "81/105\n",
      "82/105\n",
      "83/105\n",
      "84/105\n",
      "85/105\n",
      "86/105\n",
      "87/105\n",
      "88/105\n",
      "89/105\n",
      "90/105\n",
      "91/105\n",
      "92/105\n",
      "93/105\n",
      "94/105\n",
      "95/105\n",
      "96/105\n",
      "97/105\n",
      "98/105\n",
      "99/105\n",
      "100/105\n",
      "101/105\n",
      "102/105\n",
      "103/105\n",
      "104/105\n",
      "105/105\n"
     ]
    }
   ],
   "source": [
    "n_embed = 10\n",
    "numPoints = 501\n",
    "numPerDataSet = 350\n",
    "\n",
    "selected_data = {}\n",
    "\n",
    "for i, (key, data) in enumerate(dict_embedded_data.items()):\n",
    "    print(f'{i+1}/{len(dict_embedded_data)}')\n",
    "    knn = NearestNeighbors(n_neighbors=n_embed)\n",
    "    knn.fit(data)\n",
    "    \n",
    "    neighs = np.zeros((data.shape[0], n_embed))\n",
    "    \n",
    "    for j in range(data.shape[0]):\n",
    "        #print(data[j,:]..shape)\n",
    "        neigh_dist, neigh_ind = knn.kneighbors(data[j,:].reshape(1,-1),return_distance=True)\n",
    "        #print(neigh_dist.shape)\n",
    "        #print(neigh_dist)\n",
    "       \n",
    "        #sigma = np.median(neigh_dist[:,-1])\n",
    "        #print(sigma)\n",
    "        \n",
    "        neighs[j,:] = neigh_dist\n",
    "    \n",
    "    #print(neighs.shape)\n",
    "    #print(np.median(neighs[:,-1]))\n",
    "    \n",
    "    sigma = np.median(neighs[:,-1])\n",
    "    \n",
    "    maxY = np.ceil(data.max())+1\n",
    "    xx = np.linspace(-maxY, maxY, numPoints)\n",
    "    yy = xx\n",
    "    XX, YY = np.meshgrid(xx, yy)\n",
    "    \n",
    "    G = np.exp(-0.5*(XX**2 + YY**2)/(sigma**2)) / (2*np.pi*sigma**2);\n",
    "    \n",
    "    #print(G.shape)\n",
    "    \n",
    "    maxY = np.ceil(test.max())+1\n",
    "    xx = np.linspace(-maxY, maxY, numPoints)\n",
    "    yy = xx\n",
    "    XX, YY = np.meshgrid(xx, yy)\n",
    "\n",
    "    H, _, _ = np.histogram2d(test[:,0], test[:,1], bins=(xx, yy))\n",
    "\n",
    "    res = signal.convolve(G, H, mode='same')\n",
    "    res *= res > 0\n",
    "    \n",
    "    vals = np.round((data + max(xx))*len(xx)/(2*max(xx))).astype(int);\n",
    "    vals = np.clip(vals, vals.min(), numPoints-1)\n",
    "    \n",
    "    #print(np.unique(vals))\n",
    "    \n",
    "    labels = watershed(-res, connectivity=8)\n",
    "    maxL = labels.max()\n",
    "    \n",
    "    N = data.shape[0]\n",
    "    watershedValues = np.zeros((N,1));\n",
    "    for k in range(N):\n",
    "        watershedValues[k] = labels[vals[k,1],vals[k,0]];\n",
    "    \n",
    "    #print(np.unique(watershedValues))\n",
    "    \n",
    "    wavelet = wavelet_data[key]\n",
    "    templates = []\n",
    "\n",
    "    for l in range(maxL):\n",
    "        if len(np.where(watershedValues==l)[0]) > 0:\n",
    "            templates.append(wavelet[np.where(watershedValues==l)[0],:])\n",
    "    templateLengths = np.array(list(map(len, templates)))\n",
    "    \n",
    "    #print(templateLengths)\n",
    "\n",
    "    numInGroup = np.round(numPerDataSet*templateLengths/sum(templateLengths))\n",
    "    numInGroup = np.clip(numInGroup, 1, np.max(numInGroup))\n",
    "    sumVal = numInGroup.sum();\n",
    "    \n",
    "    #print(numInGroup)\n",
    "    \n",
    "    N = len(templates)\n",
    "    if sumVal < numPerDataSet:\n",
    "        q = int(numPerDataSet - sumVal);\n",
    "        idx = np.random.choice(N,min(q,N));\n",
    "        numInGroup[idx] += 1;\n",
    "    else:\n",
    "        if sumVal > numPerDataSet:\n",
    "            q = int(sumVal - numPerDataSet);\n",
    "            idx2 = np.where(numInGroup > 1)[0];\n",
    "            Lq = len(idx2);\n",
    "            if Lq < q:\n",
    "                idx2 = range(len(numInGroup));\n",
    "            idx = np.random.choice(len(idx2),q);\n",
    "            numInGroup[idx2[idx]] -= 1\n",
    "    \n",
    "    idx = numInGroup > templateLengths;\n",
    "    numInGroup[idx] = templateLengths[idx];\n",
    "    cumSumGroupVals = np.append([0],np.cumsum(numInGroup));\n",
    "    \n",
    "    selectedData = []\n",
    "\n",
    "    for m in range(N):      \n",
    "        #amps = wavelet_data.sum(1)\n",
    "        #amps = amps[np.where(vals == j)]\n",
    "        idx2 = np.random.choice(templates[m].shape[0], int(numInGroup[m]))\n",
    "        selectedData.extend(templates[m][idx2,:]);\n",
    "        #selectedAmps(cumSumGroupVals(j)+1:cumSumGroupVals(j+1)) = amps(idx2);\n",
    "    \n",
    "    selected_data[key] = np.array(selectedData)"
   ]
  },
  {
   "cell_type": "code",
   "execution_count": 273,
   "metadata": {},
   "outputs": [],
   "source": [
    "save_obj(selected_data, 'selected_data')"
   ]
  },
  {
   "cell_type": "code",
   "execution_count": 275,
   "metadata": {},
   "outputs": [
    {
     "data": {
      "text/plain": [
       "(351, 240)"
      ]
     },
     "execution_count": 275,
     "metadata": {},
     "output_type": "execute_result"
    }
   ],
   "source": [
    "selected_data[next(iter(selected_data))].shape"
   ]
  },
  {
   "cell_type": "code",
   "execution_count": 281,
   "metadata": {},
   "outputs": [
    {
     "data": {
      "text/plain": [
       "(36883, 240)"
      ]
     },
     "execution_count": 281,
     "metadata": {},
     "output_type": "execute_result"
    }
   ],
   "source": [
    "training_data = []\n",
    "\n",
    "for data in selected_data.values():\n",
    "    training_data.extend(data)\n",
    "training_data = np.array(training_data)\n",
    "training_data.shape"
   ]
  },
  {
   "cell_type": "code",
   "execution_count": 284,
   "metadata": {},
   "outputs": [],
   "source": [
    "# Normalize\n",
    "\n",
    "for t in range(training_data.shape[0]):\n",
    "    training_data[t,:] = training_data[t,:]/training_data[t,:].sum()"
   ]
  },
  {
   "cell_type": "code",
   "execution_count": 285,
   "metadata": {},
   "outputs": [],
   "source": [
    "training_embedded = TSNE(n_components=2).fit_transform(training_data)"
   ]
  },
  {
   "cell_type": "code",
   "execution_count": 287,
   "metadata": {},
   "outputs": [
    {
     "data": {
      "text/plain": [
       "(36883, 2)"
      ]
     },
     "execution_count": 287,
     "metadata": {},
     "output_type": "execute_result"
    }
   ],
   "source": [
    "training_embedded.shape"
   ]
  }
 ],
 "metadata": {
  "kernelspec": {
   "display_name": "Python 3",
   "language": "python",
   "name": "python3"
  },
  "language_info": {
   "codemirror_mode": {
    "name": "ipython",
    "version": 3
   },
   "file_extension": ".py",
   "mimetype": "text/x-python",
   "name": "python",
   "nbconvert_exporter": "python",
   "pygments_lexer": "ipython3",
   "version": "3.7.6"
  }
 },
 "nbformat": 4,
 "nbformat_minor": 4
}
