{
 "cells": [
  {
   "cell_type": "markdown",
   "metadata": {},
   "source": [
    "IMPORT"
   ]
  },
  {
   "cell_type": "code",
   "execution_count": 1,
   "metadata": {
    "scrolled": true
   },
   "outputs": [],
   "source": [
    "import math\n",
    "import numpy as np\n",
    "import pandas as pd\n",
    "import pickle\n",
    "import os\n",
    "import cv2\n",
    "import seaborn as sns\n",
    "import matplotlib.pyplot as plt\n",
    "\n",
    "from scipy import signal, fftpack, stats\n",
    "from sklearn.manifold import TSNE\n",
    "from sklearn.decomposition import PCA\n",
    "from sklearn.mixture import GaussianMixture\n",
    "from utils import findStimulationData, dict2array\n",
    "from wavelet import findWavelets, normalizeFrames\n",
    "from matplotlib.patches import Ellipse\n",
    "\n"
   ]
  },
  {
   "cell_type": "markdown",
   "metadata": {},
   "source": [
    "Define Data Analysis Related Functions"
   ]
  },
  {
   "cell_type": "code",
   "execution_count": 3,
   "metadata": {},
   "outputs": [],
   "source": [
    "def load_data(xp):\n",
    "    '''\n",
    "    Load data from an experiment (xp)\n",
    "    \n",
    "    Returns\n",
    "    ------\n",
    "    gen_dict\n",
    "        General info on data (on/off periods, collisions...)\n",
    "    \n",
    "    data\n",
    "        Raw data\n",
    "    \n",
    "    metadata\n",
    "        Raw metadata\n",
    "    '''\n",
    "    \n",
    "    # Load gendict\n",
    "    genDict = np.load(f'../CoBar-Dataset/{xp}/U3_f/genotype_dict.npy', allow_pickle=True).item()\n",
    "    \n",
    "    # Load data\n",
    "    with open(f'../CoBar-Dataset/{xp}/U3_f/{xp}_U3_f_trackingData.pkl', 'rb') as f:\n",
    "        data = pickle.load(f)\n",
    "    \n",
    "    print(f'{xp} - Data dimension: {data.shape}')\n",
    "    \n",
    "    # Extract metadata\n",
    "    metadata = np.array([list(item) for item in data.index.values])\n",
    "    print(f'{xp} - Metadata dimension: {metadata.shape}')\n",
    "    \n",
    "    return genDict, data, metadata\n",
    "\n",
    "\n",
    "def findOnPeriods(key, raw_metadata, display=False):\n",
    "    '''\n",
    "    Find On-Stimulation periods for a given experiment\n",
    "    \n",
    "    Parameters\n",
    "    ------\n",
    "    key\n",
    "        Experiment key\n",
    "    \n",
    "    raw_metadata\n",
    "        Raw metadata for each fly in each experiment\n",
    "    \n",
    "    display\n",
    "        If true, displays on-stimulation intervals\n",
    "    \n",
    "    Returns\n",
    "    ------\n",
    "    numpy.ndarray\n",
    "        All frames where the stimulation was ON\n",
    "    '''\n",
    "    \n",
    "    metadata = raw_metadata[key]\n",
    "    on_periods = ['on0', 'on1', 'on2']\n",
    "\n",
    "    on_intervals = []\n",
    "\n",
    "    for p in on_periods:\n",
    "        start_period = np.where(metadata[:,1] == p)[0][0]\n",
    "        end_period = np.where(metadata[:,1] == p)[0][-1]\n",
    "        on_intervals.extend(list(range(start_period, end_period)))\n",
    "        if display:\n",
    "            print(f'{p}: {[start_period, end_period]}')\n",
    "    return np.array(on_intervals)\n",
    "\n",
    "\n",
    "def get_data_per_fly_per_xp():  \n",
    "    '''\n",
    "    Extract data for each fly in each experiment\n",
    "    \n",
    "    N: number of flies\n",
    "    L: number of frames\n",
    "    \n",
    "    Returns\n",
    "    ------\n",
    "    dict_pretarsi_data\n",
    "        A dictionary containing xy data for each pretarsus for each fly, size Lx12 for each fly\n",
    "        key = experiment + fly index (according to tracking video)\n",
    "    \n",
    "    dict_metadata\n",
    "        Corresponding metadata, size Lx6 for each fly\n",
    "        key = experiment + fly index (according to tracking video)\n",
    "    \n",
    "    dict_pos_data\n",
    "        Centroid xy data, size Lx2 for each fly\n",
    "        key = experiment + fly index (according to tracking video)\n",
    "    \n",
    "    n_trial_data\n",
    "        Get number of flies in each experiment\n",
    "        key = experiment\n",
    "    '''\n",
    "    \n",
    "    dict_pretarsi_data = {}\n",
    "    dict_metadata = {}\n",
    "    dict_pos_data = {}\n",
    "    n_trial_data = {}\n",
    "    \n",
    "    stim_col = 1 # Metadata column with stimulation info ('on'/'off')\n",
    "    xp_col = 3   # Metadata column with experiment info (time of experiment)\n",
    "    fly_col = 4  # Metadata column with fly info (fly 0, 1 or 2) \n",
    "    \n",
    "    for strain in transgenics:\n",
    "        # Load data for given strain\n",
    "        genDict, data, metadata = load_data(strain)\n",
    "        \n",
    "        # Extract pretarsi data\n",
    "        pretarsi = [\"LFclaw\", \"LHclaw\", \"LMclaw\", \"RFclaw\", \"RHclaw\", \"RMclaw\"]\n",
    "        pos = [\"posx\", \"posy\"]\n",
    "        orientation = [\"orientation\"]\n",
    "        pretarsi_data = data[pretarsi]   \n",
    "        pos_data = data[\"center\"][pos + orientation]\n",
    "    \n",
    "        # Gather all possible experiments and maximum number of flies\n",
    "        xps = np.unique(metadata[:,xp_col])\n",
    "        flies = np.unique(metadata[:,fly_col])\n",
    "        \n",
    "        n_trials = len(xps)*len(flies)\n",
    "\n",
    "        for xp in xps:\n",
    "            # Extract rows corresponding to current experiment\n",
    "            xp_idx = np.where(metadata[:,xp_col] == xp)[0]\n",
    "            \n",
    "            # Extract corresponding metadata, pretarsi data and positional data\n",
    "            xp_metadata = metadata[xp_idx]\n",
    "            xp_pretarsi_data = pretarsi_data.iloc[xp_idx]\n",
    "            xp_pos_data = pos_data.iloc[xp_idx]\n",
    "\n",
    "            for fly in flies:\n",
    "                # Extract rows corresponding to current fly\n",
    "                fly_idx = np.where(xp_metadata[:,fly_col] == fly)[0]\n",
    "                \n",
    "                # Extract corresponding metadata and data for current fly\n",
    "                xp_fly_metadata = xp_metadata[fly_idx]\n",
    "                xp_fly_pretarsi_data = xp_pretarsi_data.iloc[fly_idx]\n",
    "                xp_fly_pos_data = xp_pos_data.iloc[fly_idx]\n",
    "                \n",
    "                xp_fly_metadata = np.append(xp_fly_metadata, np.array(range(len(xp_fly_metadata))).reshape(-1,1), axis=1)\n",
    "                \n",
    "                \n",
    "                # Sort timestamps, and re-arrange fly data for time stamps\n",
    "                # Order = 'off0', 'on0', 'off1', 'on1', 'off2', 'on2', 'off3'\n",
    "                if not(xp_fly_pretarsi_data.empty):\n",
    "                    \n",
    "                    dict_metadata[xp+fly] = np.array(sorted(xp_fly_metadata, key=lambda x: (int(x[stim_col][-1]), x[stim_col])))\n",
    "                    idx_sort = np.array(list(map(int, dict_metadata[xp+fly][:,-1])))\n",
    "                    dict_pretarsi_data[xp + fly] = np.array(xp_fly_pretarsi_data)[idx_sort,:] * 38/832                    \n",
    "                    dict_pos_data[xp + fly] = np.array(xp_fly_pos_data)[idx_sort,:]\n",
    "                    \n",
    "                    # Only convert x, y pos positions to mm\n",
    "                    dict_pos_data[xp + fly][:,:2] *= 38/832\n",
    "                else:\n",
    "                    n_trials -= 1\n",
    "            \n",
    "        n_trial_data[strain] = n_trials\n",
    "        \n",
    "        print(f'{strain}: {n_trials} trials')\n",
    "    \n",
    "    return dict_pretarsi_data, dict_metadata, dict_pos_data, n_trial_data\n",
    "\n",
    "\n",
    "def findStimulationData(raw_pretarsi_data, raw_metadata):\n",
    "    '''\n",
    "    Extract data where the stimulation was ON\n",
    "    \n",
    "    raw_pretarsi_data\n",
    "        Raw xy data for each pretarsus, size Lx12 for each fly\n",
    "    \n",
    "    raw_metadata\n",
    "        Corresponding metadata, size Lx6 for each fly\n",
    "    \n",
    "    Returns\n",
    "    ------\n",
    "    stim_data\n",
    "        XY stimulation data for each pretarsus, size lx12 for each fly, l < L\n",
    "    '''\n",
    "    stim_data = {}\n",
    "    \n",
    "    for key, data in raw_pretarsi_data.items():\n",
    "        on_idxs = findOnPeriods(key, raw_metadata)\n",
    "        \n",
    "        stim_data[key] = data[on_idxs,:]\n",
    "        \n",
    "    return stim_data\n",
    "\n",
    "\n",
    "def runPipeline(raw_pretarsi_data, raw_metadata, n_trial_data, \n",
    "                groupByFly=False, decimate=False, pca=False):\n",
    "    stim_data = findStimulationData(raw_pretarsi_data, raw_metadata)\n",
    "    print(f'Stimulation data - number of flies: {len(stim_data)}')\n",
    "    print(f'Dimension of an observation {stim_data[next(iter(stim_data))].shape} \\n')\n",
    "    \n",
    "    print('Wavelet transformation...')\n",
    "    wavelet_data = findWavelets(stim_data)\n",
    "    print('Wavelet transform: Done')\n",
    "\n",
    "    normalized_wavelet_data = normalizeFrames(wavelet_data)\n",
    "    print('Frame normalization: Done')\n",
    "    \n",
    "    normalized_wavelet_array, min_nFrames = dict2array(normalized_wavelet_data, nCoords=40, \n",
    "                                                   groupByFly=groupByFly, decimate=decimate)\n",
    "    print(f'Conversion to array - data shape: {normalized_wavelet_array.shape} \\n')\n",
    "    \n",
    "    if pca:\n",
    "        print('PCA decomposition...')\n",
    "        normalized_wavelet_array = PCA(n_components=0.9, random_state=42).fit_transform(normalized_wavelet_array)\n",
    "        print(f'Number of features kept to explain 90% of variance: {normalized_wavelet_array.shape[1]} \\n')\n",
    "    \n",
    "    return normalized_wavelet_array, min_nFrames\n",
    "\n",
    "\n"
   ]
  },
  {
   "cell_type": "markdown",
   "metadata": {},
   "source": [
    "Define Plotting Related Functions"
   ]
  },
  {
   "cell_type": "code",
   "execution_count": 5,
   "metadata": {},
   "outputs": [],
   "source": [
    "def draw_ellipse(position, covariance, ax=None, **kwargs):\n",
    "    \"\"\"Draw an ellipse with a given position and covariance\"\"\"\n",
    "    ax = ax or plt.gca()\n",
    "    \n",
    "    # Convert covariance to principal axes\n",
    "    if covariance.shape == (2, 2):\n",
    "        U, s, Vt = np.linalg.svd(covariance)\n",
    "        angle = np.degrees(np.arctan2(U[1, 0], U[0, 0]))\n",
    "        width, height = 2 * np.sqrt(s)\n",
    "    else:\n",
    "        angle = 0\n",
    "        width, height = 2 * np.sqrt(covariance)\n",
    "    \n",
    "    # Draw the Ellipse\n",
    "    for nsig in range(1, 4):\n",
    "        ax.add_patch(Ellipse(position, nsig * width, nsig * height,\n",
    "                             angle, **kwargs))"
   ]
  },
  {
   "cell_type": "markdown",
   "metadata": {},
   "source": [
    "Retrieve folders for transgenic strains:"
   ]
  },
  {
   "cell_type": "code",
   "execution_count": 6,
   "metadata": {
    "scrolled": true
   },
   "outputs": [],
   "source": [
    "transgenics = os.listdir('../CoBar-Dataset')\n",
    "transgenics.remove('PR') # Control"
   ]
  },
  {
   "cell_type": "markdown",
   "metadata": {},
   "source": [
    "Get data fly-based data:"
   ]
  },
  {
   "cell_type": "code",
   "execution_count": 7,
   "metadata": {
    "scrolled": true
   },
   "outputs": [
    {
     "name": "stdout",
     "output_type": "stream",
     "text": [
      "MDN - Data dimension: (28770, 70)\n",
      "MDN - Metadata dimension: (28770, 6)\n",
      "MDN: 12 trials\n",
      "SS01049 - Data dimension: (26385, 70)\n",
      "SS01049 - Metadata dimension: (26385, 6)\n",
      "SS01049: 11 trials\n",
      "SS01054 - Data dimension: (31162, 70)\n",
      "SS01054 - Metadata dimension: (31162, 6)\n",
      "SS01054: 13 trials\n",
      "SS01540 - Data dimension: (26361, 70)\n",
      "SS01540 - Metadata dimension: (26361, 6)\n",
      "SS01540: 11 trials\n",
      "SS02111 - Data dimension: (26396, 70)\n",
      "SS02111 - Metadata dimension: (26396, 6)\n",
      "SS02111: 11 trials\n",
      "SS02279 - Data dimension: (28776, 70)\n",
      "SS02279 - Metadata dimension: (28776, 6)\n",
      "SS02279: 12 trials\n",
      "SS02377 - Data dimension: (28764, 70)\n",
      "SS02377 - Metadata dimension: (28764, 6)\n",
      "SS02377: 12 trials\n",
      "SS02608 - Data dimension: (28740, 70)\n",
      "SS02608 - Metadata dimension: (28740, 6)\n",
      "SS02608: 12 trials\n",
      "SS02617 - Data dimension: (26355, 70)\n",
      "SS02617 - Metadata dimension: (26355, 6)\n",
      "SS02617: 11 trials\n"
     ]
    }
   ],
   "source": [
    "raw_pretarsi_data, raw_metadata, _, n_trial_data = get_data_per_fly_per_xp()"
   ]
  },
  {
   "cell_type": "markdown",
   "metadata": {},
   "source": [
    "apply wavelet transform and PCA:"
   ]
  },
  {
   "cell_type": "code",
   "execution_count": 8,
   "metadata": {},
   "outputs": [
    {
     "name": "stdout",
     "output_type": "stream",
     "text": [
      "Stimulation data - number of flies: 105\n",
      "Dimension of an observation (716, 12) \n",
      "\n",
      "Wavelet transformation...\n",
      "Wavelet transform: Done\n",
      "Frame normalization: Done\n",
      "Conversion to array - data shape: (105, 168960) \n",
      "\n",
      "PCA decomposition...\n",
      "Number of features kept to explain 90% of variance: 67 \n",
      "\n"
     ]
    }
   ],
   "source": [
    "normalized_wavelet_array, min_nframes = runPipeline(raw_pretarsi_data, raw_metadata, n_trial_data, \n",
    "                groupByFly=True, decimate=False, pca=True)"
   ]
  },
  {
   "cell_type": "markdown",
   "metadata": {},
   "source": [
    "Extract classes for each fly (1 = MDN, 2 = SS01049...):"
   ]
  },
  {
   "cell_type": "code",
   "execution_count": 9,
   "metadata": {},
   "outputs": [],
   "source": [
    "classes = [] # List of colours attributed to each strain for later plotting\n",
    "strains = [] # Strain corresponding to each fly\n",
    "unique_classes = [] # Unique version of 'classes'\n",
    "\n",
    "for i, key in enumerate(n_trial_data.keys()):\n",
    "    unique_classes.append(sns.color_palette()[i])\n",
    "    for j in range(n_trial_data[key]):\n",
    "        classes.append(sns.color_palette()[i])\n",
    "        strains.append(key)\n",
    "        \n",
    "unique_classes = np.array(unique_classes)\n",
    "classes = np.array(classes)\n",
    "strains = np.array(strains)"
   ]
  },
  {
   "cell_type": "markdown",
   "metadata": {},
   "source": [
    "Perform GMM clustering:"
   ]
  },
  {
   "cell_type": "code",
   "execution_count": 12,
   "metadata": {},
   "outputs": [
    {
     "data": {
      "image/png": "[encoded data removed]",
      "text/plain": [
       "<Figure size 432x288 with 1 Axes>"
      ]
     },
     "metadata": {
      "needs_background": "light"
     },
     "output_type": "display_data"
    },
    {
     "data": {
      "image/png": "[encoded data removed]",
      "text/plain": [
       "<Figure size 432x288 with 1 Axes>"
      ]
     },
     "metadata": {
      "needs_background": "light"
     },
     "output_type": "display_data"
    },
    {
     "name": "stdout",
     "output_type": "stream",
     "text": [
      "MDN [3 0 3 3 0 0 0 0 0 0 3 0]\n",
      "SS01049 [1 1 1 0 1 1 1 1 1 1 1]\n",
      "SS01054 [2 2 2 2 2 3 2 2 3 2 2 0 2]\n",
      "SS01540 [3 3 3 3 3 3 3 2 3 3 3]\n",
      "SS02111 [0 0 0 0 0 3 0 0 0 0 3]\n",
      "SS02279 [3 3 3 3 3 3 3 3 3 3 3 3]\n",
      "SS02377 [0 0 0 0 0 3 0 0 0 0 3 0]\n",
      "SS02608 [1 1 1 1 1 1 1 1 1 1 3 1]\n",
      "SS02617 [0 0 0 1 0 1 0 0 1 0 0]\n"
     ]
    }
   ],
   "source": [
    "#CHOOSE NUMBER OF CLUSTERS\n",
    "GMM_comp = 4\n",
    "\n",
    "\n",
    "#GMM Clustering\n",
    "X        = normalized_wavelet_array\n",
    "gmm = GaussianMixture(n_components = GMM_comp, max_iter = 100, random_state = 1)\n",
    "X_label = gmm.fit_predict(X)\n",
    "\n",
    "#Extract projected means and cov on 2 first eigenvectors\n",
    "means_2d = gmm.means_[:,0:2]\n",
    "cov_2d = gmm.covariances_[:,0:2, 0:2]\n",
    "\n",
    "#==================================PLOTTING==============================================#\n",
    "plt.title(\"Dataset\")\n",
    "plt.scatter(X[:,0], X[:,1], c = classes, label = strains)\n",
    "lp = lambda i: plt.plot([], color=unique_classes[i], mec=\"none\",\n",
    "                        label=list(n_trial_data.keys())[i], ls=\"\", marker=\"o\")[0]\n",
    "handles = [lp(i) for i in np.arange(len(np.unique(strains)))]\n",
    "plt.legend(handles=handles, ncol=2, prop={'size': 8}, bbox_to_anchor=(1.04,1), loc=\"upper left\")\n",
    "plt.savefig(\"dataset.png\", bbox_inches = 'tight')\n",
    "plt.show()\n",
    "\n",
    "\n",
    "plt.title(\"Classification\")\n",
    "plt.scatter(X[:, 0], X[:,1], c = X_label)\n",
    "plt.scatter(means_2d[:,0], means_2d[:,1], marker = 'X')\n",
    "plt.gcf().text(0.91, 0.8, \"# Principal components: \" + str(67), fontsize=10)\n",
    "plt.gcf().text(0.91, 0.75, \"# GMM clusters: \" + str(GMM_comp), fontsize=10)\n",
    "\n",
    "for i in range(means_2d.shape[0]):\n",
    "    center = means_2d[i,:]\n",
    "    cov = cov_2d[i,:,:]\n",
    "    draw_ellipse(center, cov, alpha=0.1)\n",
    "plt.savefig(\"clustering_PCA_GMM_rs\"+str(GMM_comp) + \".png\", bbox_inches = 'tight')\n",
    "plt.show()\n",
    "\n",
    "\n",
    "#Print cluster assignation\n",
    "for i, strain in enumerate(np.unique(strains)): \n",
    "    print(strain, X_label[(strains == strain)])\n"
   ]
  }
 ],
 "metadata": {
  "kernelspec": {
   "display_name": "Python 3",
   "language": "python",
   "name": "python3"
  },
  "language_info": {
   "codemirror_mode": {
    "name": "ipython",
    "version": 3
   },
   "file_extension": ".py",
   "mimetype": "text/x-python",
   "name": "python",
   "nbconvert_exporter": "python",
   "pygments_lexer": "ipython3",
   "version": "3.7.6"
  }
 },
 "nbformat": 4,
 "nbformat_minor": 4
}
